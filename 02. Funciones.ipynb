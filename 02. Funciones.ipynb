{
  "cells": [
    {
      "cell_type": "markdown",
      "metadata": {
        "id": "view-in-github",
        "colab_type": "text"
      },
      "source": [
        "<a href=\"https://colab.research.google.com/github/GTD2101-ACD-AA-EJ23/01-Python-basico-20170749/blob/main/02.%20Funciones.ipynb\" target=\"_parent\"><img src=\"https://colab.research.google.com/assets/colab-badge.svg\" alt=\"Open In Colab\"/></a>"
      ]
    },
    {
      "cell_type": "markdown",
      "metadata": {
        "id": "kmtwlPEvLggP"
      },
      "source": [
        "# Funciones\n",
        "\n",
        "En este JNB se revisará el tema de Funciones"
      ]
    },
    {
      "cell_type": "code",
      "execution_count": null,
      "metadata": {
        "id": "O8NoTzxjs2wK",
        "outputId": "fa4bc249-a4fa-48a6-9dc6-7733646ed223"
      },
      "outputs": [
        {
          "name": "stdout",
          "output_type": "stream",
          "text": [
            "Hello World!\n"
          ]
        }
      ],
      "source": [
        "# Define the function\n",
        "def add_three(input_var):\n",
        "  output_var = input_var + 3\n",
        "  return output_var"
      ]
    },
    {
      "cell_type": "markdown",
      "source": [
        "# Mandando llamar a la función\n",
        "\n",
        "Una vez que se define la función en alguna celda anterior, se puede invocar en celdas posteriores."
      ],
      "metadata": {
        "id": "6rT6Jg3RPAv5"
      }
    },
    {
      "cell_type": "code",
      "source": [
        "# Run the function with 10 as input\n",
        "new_number = add_three(10)\n",
        "\n",
        "# Check that the value is 13, as expected\n",
        "print(new_number)"
      ],
      "metadata": {
        "id": "bi-Ix1kFPL_w"
      },
      "execution_count": null,
      "outputs": []
    },
    {
      "cell_type": "markdown",
      "source": [
        "# Un ejemplo más complejo\n",
        "\n",
        "Es posible definir una función con un número mayor de parámetros y utilizarla."
      ],
      "metadata": {
        "id": "Pf_tlcygPQ6h"
      }
    },
    {
      "cell_type": "code",
      "source": [
        "def get_pay(num_hours):\n",
        "  # Pre-tax pay, based on receiving $15/hour\n",
        "  pay_pretax = num_hours * 15\n",
        "  # After-tax pay, based on being in 12% tax bracket\n",
        "  pay_aftertax = pay_pretax * (1 - .12)\n",
        "  return pay_aftertax"
      ],
      "metadata": {
        "id": "k0ScZ59KPXzW"
      },
      "execution_count": 1,
      "outputs": []
    },
    {
      "cell_type": "markdown",
      "source": [
        "Probando la función de cálculo de pagos."
      ],
      "metadata": {
        "id": "uzMwD3NPP_GM"
      }
    },
    {
      "cell_type": "code",
      "source": [
        "# Calculate pay based on working 40 hours\n",
        "pay_fulltime = get_pay(40)\n",
        "print(pay_fulltime)"
      ],
      "metadata": {
        "id": "ZtCul7IkQAJ_",
        "outputId": "371588e3-efe0-4938-8d35-7353b12020e9",
        "colab": {
          "base_uri": "https://localhost:8080/"
        }
      },
      "execution_count": 2,
      "outputs": [
        {
          "output_type": "stream",
          "name": "stdout",
          "text": [
            "528.0\n"
          ]
        }
      ]
    },
    {
      "cell_type": "code",
      "source": [
        "pay_parttime = get_pay(32)\n",
        "print(pay_parttime)"
      ],
      "metadata": {
        "id": "3IyK72a9QGmj"
      },
      "execution_count": null,
      "outputs": []
    },
    {
      "cell_type": "markdown",
      "source": [
        "# Alcance\n",
        "\n",
        "Existen diferentes alcances para las variables: locales y globales"
      ],
      "metadata": {
        "id": "ylbHCbIiQHd9"
      }
    },
    {
      "cell_type": "code",
      "source": [
        "print(pay_aftertax)"
      ],
      "metadata": {
        "id": "gbqibRPOQM1F"
      },
      "execution_count": null,
      "outputs": []
    },
    {
      "cell_type": "markdown",
      "source": [
        "# Funciones con múltiples parámetros \n",
        "\n",
        "Es posible que una función reciba más de 1 argumento en su llamada."
      ],
      "metadata": {
        "id": "_-QrwFv1QOif"
      }
    },
    {
      "cell_type": "code",
      "source": [
        "def get_pay_with_more_inputs(num_hours, hourly_wage, tax_bracket):\n",
        "  # Pre-tax pay\n",
        "  pay_pretax = num_hours * hourly_wage\n",
        "  # After-tax pay\n",
        "  pay_aftertax = pay_pretax * (1 - tax_bracket)\n",
        "  return pay_aftertax"
      ],
      "metadata": {
        "id": "LsC8ofbAQWev"
      },
      "execution_count": null,
      "outputs": []
    },
    {
      "cell_type": "markdown",
      "source": [
        "Mandando llamar a la función:"
      ],
      "metadata": {
        "id": "UcemR7lqQYh2"
      }
    },
    {
      "cell_type": "code",
      "source": [
        "higher_pay_aftertax = get_pay_with_more_inputs(40, 24, .22)\n",
        "print(higher_pay_aftertax)"
      ],
      "metadata": {
        "id": "fMY_eac0QaXo"
      },
      "execution_count": null,
      "outputs": []
    },
    {
      "cell_type": "markdown",
      "source": [
        "# Función sin argumentos \n",
        "\n",
        "Es posible definir una función que no reciba argumentos ni regresa valor alguno."
      ],
      "metadata": {
        "id": "OIssJs54Qdkz"
      }
    },
    {
      "cell_type": "code",
      "source": [
        "# Define the function with no arguments and with no return\n",
        "def print_hello():\n",
        "    print(\"Hello, you!\")\n",
        "    print(\"Good morning!\")\n",
        "    \n",
        "# Call the function\n",
        "print_hello()"
      ],
      "metadata": {
        "id": "Gn22XKNaQh04",
        "outputId": "097f6d44-92af-4357-fe1c-6b8dee1ff203",
        "colab": {
          "base_uri": "https://localhost:8080/"
        }
      },
      "execution_count": 3,
      "outputs": [
        {
          "output_type": "stream",
          "name": "stdout",
          "text": [
            "Hello, you!\n",
            "Good morning!\n"
          ]
        }
      ]
    }
  ],
  "metadata": {
    "colab": {
      "provenance": [],
      "include_colab_link": true
    },
    "kernelspec": {
      "display_name": "Python 3.10.7 64-bit",
      "language": "python",
      "name": "python3"
    },
    "language_info": {
      "codemirror_mode": {
        "name": "ipython",
        "version": 3
      },
      "file_extension": ".py",
      "mimetype": "text/x-python",
      "name": "python",
      "nbconvert_exporter": "python",
      "pygments_lexer": "ipython3",
      "version": "3.10.7"
    },
    "orig_nbformat": 4,
    "vscode": {
      "interpreter": {
        "hash": "eb4a0ac80907d7f44e1a5e88d3d3381b33e3dbedd3a24d113e876f30a0c46bee"
      }
    }
  },
  "nbformat": 4,
  "nbformat_minor": 0
}